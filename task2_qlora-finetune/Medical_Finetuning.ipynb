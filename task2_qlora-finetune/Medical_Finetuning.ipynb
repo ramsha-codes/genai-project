{
 "cells": [
  {
   "cell_type": "code",
   "execution_count": null,
   "id": "aef96866",
   "metadata": {},
   "outputs": [],
   "source": [
    "# Install unsloth\n",
    "%%capture\n",
    "!pip install unsloth\n",
    "!pip install --force-reinstall --no-cache-dir --no-deps git+https://github.com/unslothai/unsloth.git"
   ]
  },
  {
   "cell_type": "code",
   "execution_count": null,
   "id": "22ff4b27",
   "metadata": {},
   "outputs": [
    {
     "name": "stdout",
     "output_type": "stream",
     "text": [
      "Paste your Hugging Face token (starts with hf_...).\n",
      "··········\n",
      "Paste your Weights & Biases API Key (press Enter to skip).\n",
      "··········\n"
     ]
    },
    {
     "name": "stderr",
     "output_type": "stream",
     "text": [
      "/usr/local/lib/python3.12/dist-packages/notebook/notebookapp.py:191: SyntaxWarning: invalid escape sequence '\\/'\n",
      "  | |_| | '_ \\/ _` / _` |  _/ -_)\n",
      "\u001b[34m\u001b[1mwandb\u001b[0m: \u001b[33mWARNING\u001b[0m If you're specifying your api key in code, ensure this code is not shared publicly.\n",
      "\u001b[34m\u001b[1mwandb\u001b[0m: \u001b[33mWARNING\u001b[0m Consider setting the WANDB_API_KEY environment variable, or running `wandb login` from the command line.\n",
      "\u001b[34m\u001b[1mwandb\u001b[0m: No netrc file found, creating one.\n",
      "\u001b[34m\u001b[1mwandb\u001b[0m: Appending key for api.wandb.ai to your netrc file: /root/.netrc\n",
      "\u001b[34m\u001b[1mwandb\u001b[0m: Currently logged in as: \u001b[33mramshaimran-work\u001b[0m (\u001b[33mramshaimran-codes\u001b[0m) to \u001b[32mhttps://api.wandb.ai\u001b[0m. Use \u001b[1m`wandb login --relogin`\u001b[0m to force relogin\n"
     ]
    },
    {
     "name": "stdout",
     "output_type": "stream",
     "text": [
      "W&B logging enabled.\n"
     ]
    }
   ],
   "source": [
    "!pip -q install -U huggingface_hub wandb\n",
    "\n",
    "from getpass import getpass\n",
    "from huggingface_hub import login\n",
    "import os, wandb\n",
    "\n",
    "# Hugging Face\n",
    "print(\"Paste your Hugging Face token (starts with hf_...).\")\n",
    "HF_TOKEN = getpass()\n",
    "login(token=HF_TOKEN)                 # Authenticates this notebook session\n",
    "os.environ[\"HF_TOKEN\"] = HF_TOKEN     # So other libs can reuse it\n",
    "\n",
    "# Weights & Biases\n",
    "use_wandb = True   # set to False if you don't want logging\n",
    "if use_wandb:\n",
    "    print(\"Paste your Weights & Biases API Key (press Enter to skip).\")\n",
    "    try:\n",
    "        WB_TOKEN = getpass()\n",
    "        if WB_TOKEN.strip():\n",
    "            wandb.login(key=WB_TOKEN)\n",
    "            os.environ[\"WANDB_PROJECT\"] = \"med-qlora-unsloth\"\n",
    "            print(\"W&B logging enabled.\")\n",
    "        else:\n",
    "            print(\"Skipped W&B login.\")\n",
    "            use_wandb = False\n",
    "    except Exception as e:\n",
    "        print(\"W&B login skipped:\", e)\n",
    "        use_wandb = False\n"
   ]
  },
  {
   "cell_type": "code",
   "execution_count": null,
   "id": "f22c146d",
   "metadata": {},
   "outputs": [
    {
     "name": "stdout",
     "output_type": "stream",
     "text": [
      "🦥 Unsloth: Will patch your computer to enable 2x faster free finetuning.\n",
      "🦥 Unsloth Zoo will now patch everything to make training faster!\n"
     ]
    },
    {
     "name": "stderr",
     "output_type": "stream",
     "text": [
      "Note: Environment variable`HF_TOKEN` is set and is the current active token independently from the token you've just configured.\n",
      "WARNING:huggingface_hub._login:Note: Environment variable`HF_TOKEN` is set and is the current active token independently from the token you've just configured.\n"
     ]
    },
    {
     "name": "stdout",
     "output_type": "stream",
     "text": [
      "==((====))==  Unsloth 2025.8.9: Fast Llama patching. Transformers: 4.55.2.\n",
      "   \\\\   /|    Tesla T4. Num GPUs = 1. Max memory: 14.741 GB. Platform: Linux.\n",
      "O^O/ \\_/ \\    Torch: 2.8.0+cu126. CUDA: 7.5. CUDA Toolkit: 12.6. Triton: 3.4.0\n",
      "\\        /    Bfloat16 = FALSE. FA [Xformers = 0.0.32.post2. FA2 = False]\n",
      " \"-____-\"     Free license: http://github.com/unslothai/unsloth\n",
      "Unsloth: Fast downloading is enabled - ignore downloading bars which are red colored!\n"
     ]
    },
    {
     "data": {
      "application/vnd.jupyter.widget-view+json": {
       "model_id": "88627c4291a54f5cad2bd7195216fdb0",
       "version_major": 2,
       "version_minor": 0
      },
      "text/plain": [
       "model.safetensors:   0%|          | 0.00/5.96G [00:00<?, ?B/s]"
      ]
     },
     "metadata": {},
     "output_type": "display_data"
    },
    {
     "data": {
      "application/vnd.jupyter.widget-view+json": {
       "model_id": "09c11646fea74056bc5df7b2dddfbc8e",
       "version_major": 2,
       "version_minor": 0
      },
      "text/plain": [
       "generation_config.json:   0%|          | 0.00/236 [00:00<?, ?B/s]"
      ]
     },
     "metadata": {},
     "output_type": "display_data"
    },
    {
     "data": {
      "application/vnd.jupyter.widget-view+json": {
       "model_id": "137a8190fa94405993c841d9135d7580",
       "version_major": 2,
       "version_minor": 0
      },
      "text/plain": [
       "tokenizer_config.json: 0.00B [00:00, ?B/s]"
      ]
     },
     "metadata": {},
     "output_type": "display_data"
    },
    {
     "data": {
      "application/vnd.jupyter.widget-view+json": {
       "model_id": "d860e53955a84e97900c49b6eb952ed6",
       "version_major": 2,
       "version_minor": 0
      },
      "text/plain": [
       "tokenizer.json:   0%|          | 0.00/17.2M [00:00<?, ?B/s]"
      ]
     },
     "metadata": {},
     "output_type": "display_data"
    },
    {
     "data": {
      "application/vnd.jupyter.widget-view+json": {
       "model_id": "e5dde88c5c2b465398e7f890fddd4cff",
       "version_major": 2,
       "version_minor": 0
      },
      "text/plain": [
       "special_tokens_map.json:   0%|          | 0.00/483 [00:00<?, ?B/s]"
      ]
     },
     "metadata": {},
     "output_type": "display_data"
    },
    {
     "data": {
      "application/vnd.jupyter.widget-view+json": {
       "model_id": "5c2d83c52d17420e9492ff96660052c4",
       "version_major": 2,
       "version_minor": 0
      },
      "text/plain": [
       "chat_template.jinja: 0.00B [00:00, ?B/s]"
      ]
     },
     "metadata": {},
     "output_type": "display_data"
    }
   ],
   "source": [
    "from unsloth import FastLanguageModel\n",
    "\n",
    "max_seq_length = 2048\n",
    "dtype = None\n",
    "load_in_4bit = True\n",
    "\n",
    "\n",
    "model, tokenizer = FastLanguageModel.from_pretrained(\n",
    "    model_name = \"unsloth/DeepSeek-R1-Distill-Llama-8B\",\n",
    "    max_seq_length = max_seq_length,\n",
    "    dtype = dtype,\n",
    "    load_in_4bit = load_in_4bit,\n",
    "    token = HF_TOKEN,\n",
    ")"
   ]
  },
  {
   "cell_type": "code",
   "execution_count": null,
   "id": "f8112f3c",
   "metadata": {},
   "outputs": [],
   "source": [
    "prompt_style = \"\"\"Below is an instruction that describes a task, paired with an input that provides further context.\n",
    "Write a response that appropriately completes the request.\n",
    "Before answering, think carefully about the question and create a step-by-step chain of thoughts to ensure a logical and accurate response.\n",
    "\n",
    "### Instruction:\n",
    "You are a medical expert with advanced knowledge in clinical reasoning, diagnostics, and treatment planning.\n",
    "Please answer the following medical question.\n",
    "\n",
    "### Question:\n",
    "{}\n",
    "\n",
    "### Response:\n",
    "<think>{}\"\"\""
   ]
  },
  {
   "cell_type": "code",
   "execution_count": null,
   "id": "bb34ced4",
   "metadata": {},
   "outputs": [
    {
     "name": "stdout",
     "output_type": "stream",
     "text": [
      "\n",
      "<think>\n",
      "Okay, so I'm trying to figure out what cystometry would show for this 61-year-old woman. Let me start by breaking down the information given.\n",
      "\n",
      "She's been having involuntary urine loss, especially when she coughs or sneezes. That makes me think of stress urinary incontinence. But she doesn't leak at night, which might mean her bladder doesn't have problems when it's relaxed. So, it's probably not related to nighttime bladder capacity issues.\n",
      "\n",
      "She undergoes a gynecological exam and Q-tip test. I remember that the Q-tip test is used to check for urethral obstruction, especially in women. The Q-tip is a catheter that's passed through the urethra, and it measures the pressure at the urethral meatus. If the pressure is higher than normal, it suggests that the urethra might be obstructed, which could lead to difficulty in emptying the bladder.\n",
      "\n",
      "If the Q-tip test shows an elevated pressure, that might indicate that her urethra is partially blocked. If the pressure is higher than normal, her bladder might not empty completely during a cough or sneeze because there's resistance in the urethral outlet. So, when she coughs, her bladder contracts, but the urethra doesn't open fully, leading to the small amount of urine loss she's experiencing.\n",
      "\n",
      "Now, thinking about cystometry, which is a test where they fill the bladder and measure how much it holds and how it contracts. If the Q-tip test shows obstruction, the cystometry would likely show that her bladder can hold a normal amount of urine (so residual volume is normal), but when it contracts, the detrusor muscle might not relax properly because of the obstruction. This could cause the bladder to not empty completely, which fits with her symptoms of loss during activities.\n",
      "\n",
      "Wait, but she doesn't leak at night. So, maybe her residual volume is normal because her bladder doesn't stay full overnight. The detrusor contractions might be normal too, but the obstruction is causing the issue during activities. So, the key findings would be normal residual volume and normal contractions, but the issue is the urethral obstruction leading to incomplete emptying.\n",
      "\n",
      "I think I'm getting a bit tangled here. Let me try to structure this:\n",
      "\n",
      "- Symptoms: Involuntary loss during coughing/sneezing, no nighttime leakage.\n",
      "- Gynecological exam and Q-tip test: Elevated pressure at urethral meatus suggests obstruction.\n",
      "- Cystometry: Residual volume is normal (since no leakage at night), detrusor contractions are normal, but there's evidence of urethral resistance leading to incomplete emptying during activities.\n",
      "\n",
      "So, the main points are normal residual volume and normal detrusor contractions, but the issue is the urethral obstruction causing the symptoms. Therefore, the cystometry would show normal residual volume and normal contractions, but the presence of urethral obstruction would explain the symptoms.\n",
      "</think>\n",
      "\n",
      "Based on the analysis, the cystometry findings for the 61-year-old woman would reveal:\n",
      "\n",
      "- **Residual Volume**: Normal, as there is no leakage at night.\n",
      "- **Detrusor Contractions**: Normal, without evidence of abnormal muscle activity.\n",
      "- **Urethral Function**: Evidence of urethral obstruction, contributing to the symptoms of incomplete emptying during activities.\n",
      "\n",
      "**Conclusion**: The symptoms are primarily due to urethral obstruction, with normal residual volume and detrusor contractions.<｜end▁of▁sentence｜>\n"
     ]
    }
   ],
   "source": [
    "question = \"A 61-year-old woman with a long history of involuntary urine loss during activities like coughing or sneezing but no leakage at night undergoes a gynecological exam and Q-tip test. Based on these findings, what would cystometry most likely reveal about her residual volume and detrusor contractions?\"\n",
    "\n",
    "\n",
    "FastLanguageModel.for_inference(model)\n",
    "inputs = tokenizer([prompt_style.format(question, \"\")], return_tensors=\"pt\").to(\"cuda\")\n",
    "\n",
    "outputs = model.generate(\n",
    "    input_ids=inputs.input_ids,\n",
    "    attention_mask=inputs.attention_mask,\n",
    "    max_new_tokens=1200,\n",
    "    use_cache=True,\n",
    ")\n",
    "response = tokenizer.batch_decode(outputs)\n",
    "print(response[0].split(\"### Response:\")[1])"
   ]
  },
  {
   "cell_type": "code",
   "execution_count": null,
   "id": "8576d2fc",
   "metadata": {},
   "outputs": [],
   "source": [
    "EOS_TOKEN = tokenizer.eos_token\n",
    "\n",
    "\n",
    "def formatting_prompts_func(examples):\n",
    "    inputs = examples[\"Question\"]\n",
    "    cots = examples[\"Complex_CoT\"]\n",
    "    outputs = examples[\"Response\"]\n",
    "    texts = []\n",
    "    for input, cot, output in zip(inputs, cots, outputs):\n",
    "        text = prompt_style.format(input, cot, output) + EOS_TOKEN\n",
    "        texts.append(text)\n",
    "    return {\n",
    "        \"text\": texts,\n",
    "    }"
   ]
  },
  {
   "cell_type": "code",
   "execution_count": null,
   "id": "f016dc49",
   "metadata": {},
   "outputs": [
    {
     "data": {
      "application/vnd.jupyter.widget-view+json": {
       "model_id": "40935dd3b1d64cd9a036a38922d9f230",
       "version_major": 2,
       "version_minor": 0
      },
      "text/plain": [
       "Map:   0%|          | 0/500 [00:00<?, ? examples/s]"
      ]
     },
     "metadata": {},
     "output_type": "display_data"
    },
    {
     "data": {
      "application/vnd.google.colaboratory.intrinsic+json": {
       "type": "string"
      },
      "text/plain": [
       "\"Below is an instruction that describes a task, paired with an input that provides further context. \\nWrite a response that appropriately completes the request. \\nBefore answering, think carefully about the question and create a step-by-step chain of thoughts to ensure a logical and accurate response.\\n\\n### Instruction:\\nYou are a medical expert with advanced knowledge in clinical reasoning, diagnostics, and treatment planning. \\nPlease answer the following medical question. \\n\\n### Question:\\nGiven the symptoms of sudden weakness in the left arm and leg, recent long-distance travel, and the presence of swollen and tender right lower leg, what specific cardiac abnormality is most likely to be found upon further evaluation that could explain these findings?\\n\\n### Response:\\n<think>Okay, let's see what's going on here. We've got sudden weakness in the person's left arm and leg - and that screams something neuro-related, maybe a stroke?\\n\\nBut wait, there's more. The right lower leg is swollen and tender, which is like waving a big flag for deep vein thrombosis, especially after a long flight or sitting around a lot.\\n\\nSo, now I'm thinking, how could a clot in the leg end up causing issues like weakness or stroke symptoms?\\n\\nOh, right! There's this thing called a paradoxical embolism. It can happen if there's some kind of short circuit in the heart - like a hole that shouldn't be there.\\n\\nLet's put this together: if a blood clot from the leg somehow travels to the left side of the heart, it could shoot off to the brain and cause that sudden weakness by blocking blood flow there.\\n\\nHmm, but how would the clot get from the right side of the heart to the left without going through the lungs and getting filtered out?\\n\\nHere's where our cardiac anomaly comes in: a patent foramen ovale or PFO. That's like a sneaky little shortcut in the heart between the right and left atria.\\n\\nAnd it's actually pretty common, found in about a quarter of adults, which definitely makes it the top suspect here.\\n\\nSo with all these pieces - long travel, leg clot, sudden weakness - a PFO fits the bill perfectly, letting a clot cross over and cause all this.\\n\\nEverything fits together pretty neatly, so I'd bet PFO is the heart issue waiting to be discovered. Yeah, that really clicks into place!<｜end▁of▁sentence｜>\""
      ]
     },
     "metadata": {},
     "output_type": "display_data"
    }
   ],
   "source": [
    "from datasets import load_dataset\n",
    "dataset = load_dataset(\"FreedomIntelligence/medical-o1-reasoning-SFT\",\"en\", split = \"train[0:500]\",trust_remote_code=True)\n",
    "dataset = dataset.map(formatting_prompts_func, batched = True,)\n",
    "dataset[\"text\"][0]"
   ]
  },
  {
   "cell_type": "code",
   "execution_count": null,
   "id": "985ae28a",
   "metadata": {},
   "outputs": [
    {
     "name": "stderr",
     "output_type": "stream",
     "text": [
      "Unsloth 2025.8.9 patched 32 layers with 32 QKV layers, 32 O layers and 32 MLP layers.\n"
     ]
    }
   ],
   "source": [
    "model = FastLanguageModel.get_peft_model(\n",
    "    model,\n",
    "    r=16,\n",
    "    target_modules=[\n",
    "        \"q_proj\",\n",
    "        \"k_proj\",\n",
    "        \"v_proj\",\n",
    "        \"o_proj\",\n",
    "        \"gate_proj\",\n",
    "        \"up_proj\",\n",
    "        \"down_proj\",\n",
    "    ],\n",
    "    lora_alpha=16,\n",
    "    lora_dropout=0,\n",
    "    bias=\"none\",\n",
    "    use_gradient_checkpointing=\"unsloth\",  # True or \"unsloth\" for very long context\n",
    "    random_state=3407,\n",
    "    use_rslora=False,\n",
    "    loftq_config=None,\n",
    ")"
   ]
  },
  {
   "cell_type": "code",
   "execution_count": null,
   "id": "d335ea43",
   "metadata": {},
   "outputs": [
    {
     "data": {
      "application/vnd.jupyter.widget-view+json": {
       "model_id": "3413552986074afa807bf80b7e09c859",
       "version_major": 2,
       "version_minor": 0
      },
      "text/plain": [
       "Unsloth: Tokenizing [\"text\"]:   0%|          | 0/500 [00:00<?, ? examples/s]"
      ]
     },
     "metadata": {},
     "output_type": "display_data"
    }
   ],
   "source": [
    "from trl import SFTTrainer\n",
    "from transformers import TrainingArguments\n",
    "from unsloth import is_bfloat16_supported\n",
    "\n",
    "trainer = SFTTrainer(\n",
    "    model=model,\n",
    "    tokenizer=tokenizer,\n",
    "    train_dataset=dataset,\n",
    "    dataset_text_field=\"text\",\n",
    "    max_seq_length=max_seq_length,\n",
    "    dataset_num_proc=2,\n",
    "    args=TrainingArguments(\n",
    "        per_device_train_batch_size=2,\n",
    "        gradient_accumulation_steps=4,\n",
    "        # Use num_train_epochs = 1, warmup_ratio for full training runs!\n",
    "        warmup_steps=5,\n",
    "        max_steps=60,\n",
    "        learning_rate=2e-4,\n",
    "        fp16=not is_bfloat16_supported(),\n",
    "        bf16=is_bfloat16_supported(),\n",
    "        logging_steps=10,\n",
    "        optim=\"adamw_8bit\",\n",
    "        weight_decay=0.01,\n",
    "        lr_scheduler_type=\"linear\",\n",
    "        seed=3407,\n",
    "        output_dir=\"outputs\",\n",
    "    ),\n",
    ")"
   ]
  },
  {
   "cell_type": "code",
   "execution_count": null,
   "id": "52743db5",
   "metadata": {},
   "outputs": [
    {
     "name": "stderr",
     "output_type": "stream",
     "text": [
      "==((====))==  Unsloth - 2x faster free finetuning | Num GPUs used = 1\n",
      "   \\\\   /|    Num examples = 500 | Num Epochs = 1 | Total steps = 60\n",
      "O^O/ \\_/ \\    Batch size per device = 2 | Gradient accumulation steps = 4\n",
      "\\        /    Data Parallel GPUs = 1 | Total batch size (2 x 4 x 1) = 8\n",
      " \"-____-\"     Trainable parameters = 41,943,040 of 8,072,204,288 (0.52% trained)\n"
     ]
    },
    {
     "data": {
      "text/html": [
       "Changes to your `wandb` environment variables will be ignored because your `wandb` session has already started. For more information on how to modify your settings with `wandb.init()` arguments, please refer to <a href='https://wandb.me/wandb-init' target=\"_blank\">the W&B docs</a>."
      ],
      "text/plain": [
       "<IPython.core.display.HTML object>"
      ]
     },
     "metadata": {},
     "output_type": "display_data"
    },
    {
     "data": {
      "text/html": [
       "Tracking run with wandb version 0.21.1"
      ],
      "text/plain": [
       "<IPython.core.display.HTML object>"
      ]
     },
     "metadata": {},
     "output_type": "display_data"
    },
    {
     "data": {
      "text/html": [
       "Run data is saved locally in <code>/content/wandb/run-20250823_153400-anmv7969</code>"
      ],
      "text/plain": [
       "<IPython.core.display.HTML object>"
      ]
     },
     "metadata": {},
     "output_type": "display_data"
    },
    {
     "data": {
      "text/html": [
       "Syncing run <strong><a href='https://wandb.ai/ramshaimran-codes/med-qlora-unsloth/runs/anmv7969' target=\"_blank\">deep-monkey-2</a></strong> to <a href='https://wandb.ai/ramshaimran-codes/med-qlora-unsloth' target=\"_blank\">Weights & Biases</a> (<a href='https://wandb.me/developer-guide' target=\"_blank\">docs</a>)<br>"
      ],
      "text/plain": [
       "<IPython.core.display.HTML object>"
      ]
     },
     "metadata": {},
     "output_type": "display_data"
    },
    {
     "data": {
      "text/html": [
       " View project at <a href='https://wandb.ai/ramshaimran-codes/med-qlora-unsloth' target=\"_blank\">https://wandb.ai/ramshaimran-codes/med-qlora-unsloth</a>"
      ],
      "text/plain": [
       "<IPython.core.display.HTML object>"
      ]
     },
     "metadata": {},
     "output_type": "display_data"
    },
    {
     "data": {
      "text/html": [
       " View run at <a href='https://wandb.ai/ramshaimran-codes/med-qlora-unsloth/runs/anmv7969' target=\"_blank\">https://wandb.ai/ramshaimran-codes/med-qlora-unsloth/runs/anmv7969</a>"
      ],
      "text/plain": [
       "<IPython.core.display.HTML object>"
      ]
     },
     "metadata": {},
     "output_type": "display_data"
    },
    {
     "name": "stdout",
     "output_type": "stream",
     "text": [
      "Unsloth: Will smartly offload gradients to save VRAM!\n"
     ]
    },
    {
     "data": {
      "text/html": [
       "\n",
       "    <div>\n",
       "      \n",
       "      <progress value='60' max='60' style='width:300px; height:20px; vertical-align: middle;'></progress>\n",
       "      [60/60 15:14, Epoch 0/1]\n",
       "    </div>\n",
       "    <table border=\"1\" class=\"dataframe\">\n",
       "  <thead>\n",
       " <tr style=\"text-align: left;\">\n",
       "      <th>Step</th>\n",
       "      <th>Training Loss</th>\n",
       "    </tr>\n",
       "  </thead>\n",
       "  <tbody>\n",
       "    <tr>\n",
       "      <td>10</td>\n",
       "      <td>2.150300</td>\n",
       "    </tr>\n",
       "    <tr>\n",
       "      <td>20</td>\n",
       "      <td>1.543400</td>\n",
       "    </tr>\n",
       "    <tr>\n",
       "      <td>30</td>\n",
       "      <td>1.513400</td>\n",
       "    </tr>\n",
       "    <tr>\n",
       "      <td>40</td>\n",
       "      <td>1.471200</td>\n",
       "    </tr>\n",
       "    <tr>\n",
       "      <td>50</td>\n",
       "      <td>1.495200</td>\n",
       "    </tr>\n",
       "    <tr>\n",
       "      <td>60</td>\n",
       "      <td>1.473100</td>\n",
       "    </tr>\n",
       "  </tbody>\n",
       "</table><p>"
      ],
      "text/plain": [
       "<IPython.core.display.HTML object>"
      ]
     },
     "metadata": {},
     "output_type": "display_data"
    }
   ],
   "source": [
    "trainer_stats = trainer.train()"
   ]
  },
  {
   "cell_type": "code",
   "execution_count": null,
   "id": "e60eec58",
   "metadata": {},
   "outputs": [
    {
     "name": "stdout",
     "output_type": "stream",
     "text": [
      "\n",
      "<think>Okay, let's see. This woman is 61 and she's been dealing with involuntary urine loss, especially when she coughs or sneezes. Hmm, that sounds a lot like a common issue with a certain type of bladder condition. I'm thinking it's probably something related to stress incontinence. \n",
      "\n",
      "Alright, let's consider her symptoms. She doesn't leak at night, which is interesting because usually, that's more common in people with urge incontinence. But this is more about stress, so it must be something like urethral sphincter dysfunction or maybe a urethral insufficiency.\n",
      "\n",
      "Now, she's getting a gynecological exam and a Q-tip test. The Q-tip test is usually used to figure out if there's any urethral obstruction. If the test shows some obstruction, it suggests that the urethral sphincter isn't working well.\n",
      "\n",
      "So, if the Q-tip test shows urethral obstruction, it's likely that her problem is with the sphincter, not something like a weak detrusor muscle. That makes sense because with stress incontinence, the sphincter's the main issue.\n",
      "\n",
      "Now, thinking about cystometry. It's used to assess how much the bladder can hold before it's about to leak. If her sphincter is the issue, the bladder itself might be okay, meaning it can hold more urine without leaking. So, the residual volume might not be too high, and the detrusor contractions might be normal.\n",
      "\n",
      "In summary, if the Q-tip test suggests sphincter issues, cystometry would likely show a normal residual volume and normal detrusor contractions. This fits with stress incontinence rather than something like urge incontinence.<｜end▁of▁sentence｜>\n"
     ]
    }
   ],
   "source": [
    "question = \"A 61-year-old woman with a long history of involuntary urine loss during activities like coughing or sneezing but no leakage at night undergoes a gynecological exam and Q-tip test. Based on these findings, what would cystometry most likely reveal about her residual volume and detrusor contractions?\"\n",
    "\n",
    "\n",
    "FastLanguageModel.for_inference(model)\n",
    "inputs = tokenizer([prompt_style.format(question, \"\")], return_tensors=\"pt\").to(\"cuda\")\n",
    "\n",
    "outputs = model.generate(\n",
    "    input_ids=inputs.input_ids,\n",
    "    attention_mask=inputs.attention_mask,\n",
    "    max_new_tokens=1200,\n",
    "    use_cache=True,\n",
    ")\n",
    "response = tokenizer.batch_decode(outputs)\n",
    "print(response[0].split(\"### Response:\")[1])\n"
   ]
  },
  {
   "cell_type": "code",
   "execution_count": null,
   "id": "91429af7",
   "metadata": {},
   "outputs": [
    {
     "name": "stdout",
     "output_type": "stream",
     "text": [
      "\n",
      "Question 1:\n",
      "Given the symptoms of sudden weakness in the left arm and leg, recent long-distance travel, and the presence of swollen and tender right lower leg, what specific cardiac abnormality is most likely to be found upon further evaluation that could explain these findings?\n",
      "--------------------------------------------------\n",
      "\n",
      "Question 2:\n",
      "A 33-year-old woman is brought to the emergency department 15 minutes after being stabbed in the chest with a screwdriver. Given her vital signs of pulse 110/min, respirations 22/min, and blood pressure 90/65 mm Hg, along with the presence of a 5-cm deep stab wound at the upper border of the 8th rib in the left midaxillary line, which anatomical structure in her chest is most likely to be injured?\n",
      "--------------------------------------------------\n",
      "\n",
      "Question 3:\n",
      "A 61-year-old woman with a long history of involuntary urine loss during activities like coughing or sneezing but no leakage at night undergoes a gynecological exam and Q-tip test. Based on these findings, what would cystometry most likely reveal about her residual volume and detrusor contractions?\n",
      "--------------------------------------------------\n"
     ]
    }
   ],
   "source": [
    "# First 3 questions of the dataset\n",
    "for i in range(3):\n",
    "    print(f\"\\nQuestion {i+1}:\")\n",
    "    print(dataset[i][\"Question\"])\n",
    "    print(\"-\" * 50)"
   ]
  },
  {
   "cell_type": "code",
   "execution_count": null,
   "id": "905b89f5",
   "metadata": {},
   "outputs": [
    {
     "name": "stdout",
     "output_type": "stream",
     "text": [
      "\n",
      "<think>Okay, let's see what we're dealing with here. We have a 33-year-old woman who's been stabbed in the chest with a screwdriver. That's pretty serious, right? She's got a stab wound that's 5 centimeters deep. And it's in the upper border of the 8th rib, specifically on the left side, mid-axillary line. Hmm, that's an interesting spot. So, what does that tell us about what might be happening inside her chest?\n",
      "\n",
      "First off, I need to think about the anatomy of her chest and what's at risk when you have a stab wound like this. The 8th rib is a bit lower than the 9th rib, which is closer to the clavicle and more at risk for injury when you're dealing with something like a stab wound. But wait, the 8th rib is pretty close to the heart. Oh, right, the heart is located in the chest cavity, right?\n",
      "\n",
      "And the heart is a pretty critical organ. So, if there's a stab wound near it, there's a higher chance of hitting something important. Now, I'm thinking about the structures that are just below the 8th rib. There's the pericardium, which is the sac that wraps around the heart, and then the heart itself. Both of these are pretty vulnerable. So, if the stab wound is deep enough, it could potentially pierce through the pericardium and into the heart.\n",
      "\n",
      "But I should also consider if there's anything else in that area. Oh, wait, there's the aorta, which is the main artery that supplies blood to the body. It's pretty large and runs just behind the pericardium, right? So, if a stab wound is deep enough, it could potentially hit the aorta too. That's a big risk, but I'm not sure if it's more likely than the heart itself being hit.\n",
      "\n",
      "Now, I'm thinking about what's more likely to be injured when a stab wound is in that area. The pericardium is pretty thick, but the heart is more delicate. So, if the stab wound goes through the pericardium, it's quite possible it would hit the heart. Also, the way the stab wound is described—5 centimeters deep—it seems pretty substantial. That's a lot for a stab wound in the chest, which suggests it could go deeper and more likely to reach the heart.\n",
      "\n",
      "Okay, let's think about the other structures. There's the diaphragm, which is below the chest, and it's not really at risk here. There's also the mediastinal structures, but they're more lateral. So, it's unlikely they're the primary risk here.\n",
      "\n",
      "So, considering everything, the most likely structure to be injured in this scenario is the heart. It's in a position where it's vulnerable to a deep stab wound, and the depth of the wound suggests it could reach the heart. So, I think it's safe to conclude that the heart is the most likely structure to be injured here.<｜end▁of▁sentence｜>\n"
     ]
    }
   ],
   "source": [
    "question1 = \"A 33-year-old woman is brought to the emergency department 15 minutes after being stabbed in the chest with a screwdriver. Given her vital signs of pulse 110/min, respirations 22/min, and blood pressure 90/65 mm Hg, along with the presence of a 5-cm deep stab wound at the upper border of the 8th rib in the left midaxillary line, which anatomical structure in her chest is most likely to be injured?\"\n",
    "\n",
    "\n",
    "FastLanguageModel.for_inference(model)\n",
    "inputs = tokenizer([prompt_style.format(question1, \"\")], return_tensors=\"pt\").to(\"cuda\")\n",
    "\n",
    "outputs = model.generate(\n",
    "    input_ids=inputs.input_ids,\n",
    "    attention_mask=inputs.attention_mask,\n",
    "    max_new_tokens=1200,\n",
    "    use_cache=True,\n",
    ")\n",
    "response = tokenizer.batch_decode(outputs)\n",
    "print(response[0].split(\"### Response:\")[1])"
   ]
  },
  {
   "cell_type": "code",
   "execution_count": null,
   "id": "4005ecff",
   "metadata": {},
   "outputs": [
    {
     "name": "stdout",
     "output_type": "stream",
     "text": [
      "\n",
      "<think>Alright, so there's this patient who's suddenly having weakness in their left arm and leg. Hmm, that sounds like a neurological issue. And then there's the recent long-distance travel... that's interesting. Also, the right lower leg is swollen and tender. That's definitely a clue that something's going on with the blood flow there. Let's think about what this could mean.\n",
      "\n",
      "Now, when we're talking about sudden weakness, especially in just one side of the body, it often points to something like a stroke or a transient ischemic attack. But we should also consider other possibilities, like a spinal cord lesion. That's something that can cause weakness too, and it's not directly related to blood flow issues. So, we need to figure out if it's a vascular or a neurological problem.\n",
      "\n",
      "Now, looking at the right leg being swollen and tender... that definitely sounds like it's related to something going wrong with the blood flow. Maybe there's a clot or something blocking a blood vessel. Could it be that the blood vessel is getting blocked somewhere, like in the leg, and that's causing the swelling and tenderness? That's a good thought.\n",
      "\n",
      "So, if there's a blood vessel blockage, that's usually a sign of something like deep vein thrombosis, or DVT. And DVTs can happen after a long trip, especially when you're sitting for a long time. That's a classic risk factor for DVT. So, maybe that's what's going on here.\n",
      "\n",
      "But, wait, there's also the left arm and leg weakness to consider. How does that fit in? Well, if there's a DVT, it's more about the blood flow in the legs. So, that's probably not the cause of the left-sided weakness. Maybe it's more about something else. \n",
      "\n",
      "Oh, what if it's a blood vessel issue in the brain? Like, could it be a stroke? Well, strokes can cause sudden weakness, but they don't usually cause leg swelling. Hmm, that doesn't fit. So, maybe it's not a stroke.\n",
      "\n",
      "Another thing to consider is that the weakness could be due to a spinal cord lesion. That's something that can cause sudden weakness, but it's not related to blood flow. So, it's less likely, especially with the leg swelling.\n",
      "\n",
      "So, putting it all together, the most likely thing is that the patient has a deep vein thrombosis in the right leg, causing the swelling and tenderness, and the weakness is probably unrelated to this. It's just a coincidence that the weakness is happening at the same time.<｜end▁of▁sentence｜>\n"
     ]
    }
   ],
   "source": [
    "question2 = \"Given the symptoms of sudden weakness in the left arm and leg, recent long-distance travel, and the presence of swollen and tender right lower leg, what specific cardiac abnormality is most likely to be found upon further evaluation that could explain these findings?\"\n",
    "\n",
    "\n",
    "FastLanguageModel.for_inference(model)\n",
    "inputs = tokenizer([prompt_style.format(question2, \"\")], return_tensors=\"pt\").to(\"cuda\")\n",
    "\n",
    "outputs = model.generate(\n",
    "    input_ids=inputs.input_ids,\n",
    "    attention_mask=inputs.attention_mask,\n",
    "    max_new_tokens=1200,\n",
    "    use_cache=True,\n",
    ")\n",
    "response = tokenizer.batch_decode(outputs)\n",
    "print(response[0].split(\"### Response:\")[1])"
   ]
  }
 ],
 "metadata": {
  "kernelspec": {
   "display_name": "Python 3",
   "language": "python",
   "name": "python3"
  },
  "language_info": {
   "codemirror_mode": {
    "name": "ipython",
    "version": 3
   },
   "file_extension": ".py",
   "mimetype": "text/x-python",
   "name": "python",
   "nbconvert_exporter": "python",
   "pygments_lexer": "ipython3",
   "version": "3.9.6"
  }
 },
 "nbformat": 4,
 "nbformat_minor": 5
}
